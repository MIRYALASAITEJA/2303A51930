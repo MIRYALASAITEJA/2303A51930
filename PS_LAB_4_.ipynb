{
  "nbformat": 4,
  "nbformat_minor": 0,
  "metadata": {
    "colab": {
      "provenance": [],
      "authorship_tag": "ABX9TyPaC/71b6OP0nDhgpnSYOrd",
      "include_colab_link": true
    },
    "kernelspec": {
      "name": "python3",
      "display_name": "Python 3"
    },
    "language_info": {
      "name": "python"
    }
  },
  "cells": [
    {
      "cell_type": "markdown",
      "metadata": {
        "id": "view-in-github",
        "colab_type": "text"
      },
      "source": [
        "<a href=\"https://colab.research.google.com/github/MIRYALASAITEJA/2303A51930/blob/main/PS_LAB_4_.ipynb\" target=\"_parent\"><img src=\"https://colab.research.google.com/assets/colab-badge.svg\" alt=\"Open In Colab\"/></a>"
      ]
    },
    {
      "cell_type": "code",
      "execution_count": 1,
      "metadata": {
        "colab": {
          "base_uri": "https://localhost:8080/"
        },
        "id": "uEuIkF4GPZ4i",
        "outputId": "2b84c48e-3c0f-499c-ca58-44b93e914d43"
      },
      "outputs": [
        {
          "output_type": "stream",
          "name": "stdout",
          "text": [
            "The file 'course_feedback.csv' has been created successfully.\n"
          ]
        }
      ],
      "source": [
        "import pandas as pd\n",
        "import numpy as np\n",
        "\n",
        "# Sample data for the CSV file\n",
        "data = {\n",
        "    'User_ID': ['user_101', 'user_102', 'user_103', 'user_104', 'user_105', 'user_106', 'user_107'],\n",
        "    'Course_Name': ['Python for Data Science', 'Python for Data Science', 'Introduction to Machine Learning', 'Python for Data Science', 'Data Visualization with Tableau', 'Python for Data Science', 'Web Development with JavaScript'],\n",
        "    'Rating': [5, 4, 3, 2, 5, np.nan, 4],\n",
        "    'Feedback': [\n",
        "        'Excellent course! The content was very clear and the examples were helpful.',\n",
        "        'Great content, the instructor explained complex topics well.',\n",
        "        'The course was too basic and lacked practical exercises.',\n",
        "        'Not what I expected. The pace was too fast for beginners.',\n",
        "        'The visualizations section was very insightful. I highly recommend it.',\n",
        "        'This course could be improved with more coding examples.',\n",
        "        'Very practical and easy to follow. A great introduction to the topic.'\n",
        "    ],\n",
        "    'Date': ['2023-01-15', '2023-01-20', '2023-02-01', '2023-02-10', '2023-02-15', '2023-02-20', '2023-02-25']\n",
        "}\n",
        "\n",
        "# Create a DataFrame\n",
        "df = pd.DataFrame(data)\n",
        "\n",
        "# Save the DataFrame to a CSV file\n",
        "df.to_csv('course_feedback.csv', index=False)\n",
        "\n",
        "print(\"The file 'course_feedback.csv' has been created successfully.\")"
      ]
    },
    {
      "cell_type": "code",
      "source": [
        "import pandas as pd\n",
        "\n",
        "# Load the CSV file into a DataFrame\n",
        "df = pd.read_csv('course_feedback.csv')\n",
        "\n",
        "# Remove rows with missing 'Rating'\n",
        "df_cleaned = df.dropna(subset=['Rating'])\n",
        "\n",
        "# Filter feedback for 'Python for Data Science' with Rating >= 4\n",
        "filtered_feedback = df_cleaned[\n",
        "    (df_cleaned['Course_Name'] == 'Python for Data Science') &\n",
        "    (df_cleaned['Rating'] >= 4)\n",
        "]\n",
        "\n",
        "# Display the feedbacks and usernames\n",
        "print(filtered_feedback[['User_ID', 'Feedback']].to_markdown(index=False))"
      ],
      "metadata": {
        "colab": {
          "base_uri": "https://localhost:8080/"
        },
        "id": "MnqqCJZTP1Z9",
        "outputId": "a2e4ba44-1de8-43e6-e5bf-98cc22456754"
      },
      "execution_count": 2,
      "outputs": [
        {
          "output_type": "stream",
          "name": "stdout",
          "text": [
            "| User_ID   | Feedback                                                                    |\n",
            "|:----------|:----------------------------------------------------------------------------|\n",
            "| user_101  | Excellent course! The content was very clear and the examples were helpful. |\n",
            "| user_102  | Great content, the instructor explained complex topics well.                |\n"
          ]
        }
      ]
    },
    {
      "cell_type": "code",
      "source": [
        "import pandas as pd\n",
        "import numpy as np\n",
        "\n",
        "# Sample data for the CSV file\n",
        "data = {\n",
        "    'Location': ['Site A', 'Site A', 'Site B', 'Site B', 'Site A', 'Site C', 'Site C'],\n",
        "    'PM2.5': [120, 160, 145, np.nan, 170, 90, 155],\n",
        "    'PM10': [150, 200, 180, 210, 220, 120, 190],\n",
        "    'NO2': [75, 85, 90, 78, 82, 65, 88],\n",
        "    'SO2': [30, 35, 40, 45, 50, 25, 32],\n",
        "    'Date': ['2023-03-01', '2023-03-02', '2023-03-03', '2023-03-04', '2023-03-05', '2023-03-06', '2023-03-07']\n",
        "}\n",
        "\n",
        "# Create a DataFrame\n",
        "df = pd.DataFrame(data)\n",
        "\n",
        "# Save the DataFrame to a CSV file\n",
        "df.to_csv('air_quality.csv', index=False)\n",
        "\n",
        "print(\"The file 'air_quality.csv' has been created successfully.\")"
      ],
      "metadata": {
        "colab": {
          "base_uri": "https://localhost:8080/"
        },
        "id": "d41j3F2FP4fK",
        "outputId": "f29d6d26-281c-4548-9ab7-cc7524017ce8"
      },
      "execution_count": 3,
      "outputs": [
        {
          "output_type": "stream",
          "name": "stdout",
          "text": [
            "The file 'air_quality.csv' has been created successfully.\n"
          ]
        }
      ]
    },
    {
      "cell_type": "code",
      "source": [
        "import pandas as pd\n",
        "\n",
        "# Load the CSV file into a DataFrame\n",
        "df = pd.read_csv('air_quality.csv')\n",
        "\n",
        "# Fill missing pollutant values using forward fill\n",
        "df_filled = df.ffill()\n",
        "\n",
        "# Filter and display records with PM2.5 > 150 and NO2 > 80\n",
        "polluted_days = df_filled[(df_filled['PM2.5'] > 150) & (df_filled['NO2'] > 80)]\n",
        "\n",
        "# Display the records in a formatted table\n",
        "print(polluted_days.to_markdown(index=False))"
      ],
      "metadata": {
        "colab": {
          "base_uri": "https://localhost:8080/"
        },
        "id": "B6JNnGHQQSe2",
        "outputId": "0556b0d6-368a-43ce-8723-c5de7d20414e"
      },
      "execution_count": 5,
      "outputs": [
        {
          "output_type": "stream",
          "name": "stdout",
          "text": [
            "| Location   |   PM2.5 |   PM10 |   NO2 |   SO2 | Date       |\n",
            "|:-----------|--------:|-------:|------:|------:|:-----------|\n",
            "| Site A     |     160 |    200 |    85 |    35 | 2023-03-02 |\n",
            "| Site A     |     170 |    220 |    82 |    50 | 2023-03-05 |\n",
            "| Site C     |     155 |    190 |    88 |    32 | 2023-03-07 |\n"
          ]
        }
      ]
    }
  ]
}