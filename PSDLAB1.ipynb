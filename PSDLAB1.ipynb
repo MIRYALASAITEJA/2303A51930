{
  "nbformat": 4,
  "nbformat_minor": 0,
  "metadata": {
    "colab": {
      "provenance": [],
      "include_colab_link": true
    },
    "kernelspec": {
      "name": "python3",
      "display_name": "Python 3"
    },
    "language_info": {
      "name": "python"
    }
  },
  "cells": [
    {
      "cell_type": "markdown",
      "metadata": {
        "id": "view-in-github",
        "colab_type": "text"
      },
      "source": [
        "<a href=\"https://colab.research.google.com/github/MIRYALASAITEJA/2303A51930/blob/main/PSDLAB1.ipynb\" target=\"_parent\"><img src=\"https://colab.research.google.com/assets/colab-badge.svg\" alt=\"Open In Colab\"/></a>"
      ]
    },
    {
      "cell_type": "markdown",
      "metadata": {
        "id": "313a7f82"
      },
      "source": [
        "# Task\n",
        "Implement and compare recursive and iterative factorial functions in Python, measuring execution time and conceptually comparing memory usage, handling edge cases, and presenting results in a table."
      ]
    },
    {
      "cell_type": "markdown",
      "metadata": {
        "id": "90ac76be"
      },
      "source": [
        "## Implement factorial functions\n",
        "\n",
        "### Subtask:\n",
        "Write Python functions for both recursive and iterative factorial calculations.\n"
      ]
    },
    {
      "cell_type": "markdown",
      "metadata": {
        "id": "9f49131c"
      },
      "source": [
        "**Reasoning**:\n",
        "The current subtask is to define two Python functions for calculating factorials, one recursively and one iteratively. This can be done in a single code block.\n",
        "\n"
      ]
    },
    {
      "cell_type": "code",
      "metadata": {
        "id": "856ade8d"
      },
      "source": [
        "def factorial_recursive(n):\n",
        "  if n < 0: raise ValueError(\"Factorial is not defined for negative numbers\")\n",
        "  return 1 if n == 0 or n == 1 else n * factorial_recursive(n - 1)\n",
        "\n",
        "def factorial_iterative(n):\n",
        "  if n < 0: raise ValueError(\"Factorial is not defined for negative numbers\")\n",
        "  if n == 0 or n == 1: return 1\n",
        "  result = 1\n",
        "  for i in range(2, n + 1): result *= i\n",
        "  return result"
      ],
      "execution_count": 1,
      "outputs": []
    },
    {
      "cell_type": "markdown",
      "metadata": {
        "id": "d9c40214"
      },
      "source": [
        "## Measure execution time\n",
        "\n",
        "### Subtask:\n",
        "Use the `time` module to measure the execution time of both implementations for various inputs.\n"
      ]
    },
    {
      "cell_type": "markdown",
      "metadata": {
        "id": "7f15b1b7"
      },
      "source": [
        "**Reasoning**:\n",
        "Import the `time` module and define a list of input numbers. Then, for each input number, measure the execution time of both the recursive and iterative factorial functions and store the results.\n",
        "\n"
      ]
    },
    {
      "cell_type": "code",
      "metadata": {
        "colab": {
          "base_uri": "https://localhost:8080/",
          "height": 391
        },
        "id": "96331bce",
        "outputId": "c0a316d6-bc01-4937-9546-05d3cda09450"
      },
      "source": [
        "import time\n",
        "\n",
        "input_numbers = [5, 10, 20, 50, 100, 500, 1000]\n",
        "results = []\n",
        "\n",
        "for number in input_numbers:\n",
        "    start_time_recursive = time.time()\n",
        "    factorial_recursive(number)\n",
        "    end_time_recursive = time.time()\n",
        "    time_recursive = end_time_recursive - start_time_recursive\n",
        "\n",
        "    start_time_iterative = time.time()\n",
        "    factorial_iterative(number)\n",
        "    end_time_iterative = time.time()\n",
        "    time_iterative = end_time_iterative - start_time_iterative\n",
        "\n",
        "    results.append({\n",
        "        \"input\": number,\n",
        "        \"recursive_time\": time_recursive,\n",
        "        \"iterative_time\": time_iterative\n",
        "    })\n",
        "\n",
        "for result in results:\n",
        "    print(result)"
      ],
      "execution_count": 2,
      "outputs": [
        {
          "output_type": "error",
          "ename": "RecursionError",
          "evalue": "maximum recursion depth exceeded",
          "traceback": [
            "\u001b[0;31m---------------------------------------------------------------------------\u001b[0m",
            "\u001b[0;31mRecursionError\u001b[0m                            Traceback (most recent call last)",
            "\u001b[0;32m/tmp/ipython-input-2521775150.py\u001b[0m in \u001b[0;36m<cell line: 0>\u001b[0;34m()\u001b[0m\n\u001b[1;32m      6\u001b[0m \u001b[0;32mfor\u001b[0m \u001b[0mnumber\u001b[0m \u001b[0;32min\u001b[0m \u001b[0minput_numbers\u001b[0m\u001b[0;34m:\u001b[0m\u001b[0;34m\u001b[0m\u001b[0;34m\u001b[0m\u001b[0m\n\u001b[1;32m      7\u001b[0m     \u001b[0mstart_time_recursive\u001b[0m \u001b[0;34m=\u001b[0m \u001b[0mtime\u001b[0m\u001b[0;34m.\u001b[0m\u001b[0mtime\u001b[0m\u001b[0;34m(\u001b[0m\u001b[0;34m)\u001b[0m\u001b[0;34m\u001b[0m\u001b[0;34m\u001b[0m\u001b[0m\n\u001b[0;32m----> 8\u001b[0;31m     \u001b[0mfactorial_recursive\u001b[0m\u001b[0;34m(\u001b[0m\u001b[0mnumber\u001b[0m\u001b[0;34m)\u001b[0m\u001b[0;34m\u001b[0m\u001b[0;34m\u001b[0m\u001b[0m\n\u001b[0m\u001b[1;32m      9\u001b[0m     \u001b[0mend_time_recursive\u001b[0m \u001b[0;34m=\u001b[0m \u001b[0mtime\u001b[0m\u001b[0;34m.\u001b[0m\u001b[0mtime\u001b[0m\u001b[0;34m(\u001b[0m\u001b[0;34m)\u001b[0m\u001b[0;34m\u001b[0m\u001b[0;34m\u001b[0m\u001b[0m\n\u001b[1;32m     10\u001b[0m     \u001b[0mtime_recursive\u001b[0m \u001b[0;34m=\u001b[0m \u001b[0mend_time_recursive\u001b[0m \u001b[0;34m-\u001b[0m \u001b[0mstart_time_recursive\u001b[0m\u001b[0;34m\u001b[0m\u001b[0;34m\u001b[0m\u001b[0m\n",
            "\u001b[0;32m/tmp/ipython-input-4274975610.py\u001b[0m in \u001b[0;36mfactorial_recursive\u001b[0;34m(n)\u001b[0m\n\u001b[1;32m      1\u001b[0m \u001b[0;32mdef\u001b[0m \u001b[0mfactorial_recursive\u001b[0m\u001b[0;34m(\u001b[0m\u001b[0mn\u001b[0m\u001b[0;34m)\u001b[0m\u001b[0;34m:\u001b[0m\u001b[0;34m\u001b[0m\u001b[0;34m\u001b[0m\u001b[0m\n\u001b[1;32m      2\u001b[0m   \u001b[0;32mif\u001b[0m \u001b[0mn\u001b[0m \u001b[0;34m<\u001b[0m \u001b[0;36m0\u001b[0m\u001b[0;34m:\u001b[0m \u001b[0;32mraise\u001b[0m \u001b[0mValueError\u001b[0m\u001b[0;34m(\u001b[0m\u001b[0;34m\"Factorial is not defined for negative numbers\"\u001b[0m\u001b[0;34m)\u001b[0m\u001b[0;34m\u001b[0m\u001b[0;34m\u001b[0m\u001b[0m\n\u001b[0;32m----> 3\u001b[0;31m   \u001b[0;32mreturn\u001b[0m \u001b[0;36m1\u001b[0m \u001b[0;32mif\u001b[0m \u001b[0mn\u001b[0m \u001b[0;34m==\u001b[0m \u001b[0;36m0\u001b[0m \u001b[0;32mor\u001b[0m \u001b[0mn\u001b[0m \u001b[0;34m==\u001b[0m \u001b[0;36m1\u001b[0m \u001b[0;32melse\u001b[0m \u001b[0mn\u001b[0m \u001b[0;34m*\u001b[0m \u001b[0mfactorial_recursive\u001b[0m\u001b[0;34m(\u001b[0m\u001b[0mn\u001b[0m \u001b[0;34m-\u001b[0m \u001b[0;36m1\u001b[0m\u001b[0;34m)\u001b[0m\u001b[0;34m\u001b[0m\u001b[0;34m\u001b[0m\u001b[0m\n\u001b[0m\u001b[1;32m      4\u001b[0m \u001b[0;34m\u001b[0m\u001b[0m\n\u001b[1;32m      5\u001b[0m \u001b[0;32mdef\u001b[0m \u001b[0mfactorial_iterative\u001b[0m\u001b[0;34m(\u001b[0m\u001b[0mn\u001b[0m\u001b[0;34m)\u001b[0m\u001b[0;34m:\u001b[0m\u001b[0;34m\u001b[0m\u001b[0;34m\u001b[0m\u001b[0m\n",
            "... last 1 frames repeated, from the frame below ...\n",
            "\u001b[0;32m/tmp/ipython-input-4274975610.py\u001b[0m in \u001b[0;36mfactorial_recursive\u001b[0;34m(n)\u001b[0m\n\u001b[1;32m      1\u001b[0m \u001b[0;32mdef\u001b[0m \u001b[0mfactorial_recursive\u001b[0m\u001b[0;34m(\u001b[0m\u001b[0mn\u001b[0m\u001b[0;34m)\u001b[0m\u001b[0;34m:\u001b[0m\u001b[0;34m\u001b[0m\u001b[0;34m\u001b[0m\u001b[0m\n\u001b[1;32m      2\u001b[0m   \u001b[0;32mif\u001b[0m \u001b[0mn\u001b[0m \u001b[0;34m<\u001b[0m \u001b[0;36m0\u001b[0m\u001b[0;34m:\u001b[0m \u001b[0;32mraise\u001b[0m \u001b[0mValueError\u001b[0m\u001b[0;34m(\u001b[0m\u001b[0;34m\"Factorial is not defined for negative numbers\"\u001b[0m\u001b[0;34m)\u001b[0m\u001b[0;34m\u001b[0m\u001b[0;34m\u001b[0m\u001b[0m\n\u001b[0;32m----> 3\u001b[0;31m   \u001b[0;32mreturn\u001b[0m \u001b[0;36m1\u001b[0m \u001b[0;32mif\u001b[0m \u001b[0mn\u001b[0m \u001b[0;34m==\u001b[0m \u001b[0;36m0\u001b[0m \u001b[0;32mor\u001b[0m \u001b[0mn\u001b[0m \u001b[0;34m==\u001b[0m \u001b[0;36m1\u001b[0m \u001b[0;32melse\u001b[0m \u001b[0mn\u001b[0m \u001b[0;34m*\u001b[0m \u001b[0mfactorial_recursive\u001b[0m\u001b[0;34m(\u001b[0m\u001b[0mn\u001b[0m \u001b[0;34m-\u001b[0m \u001b[0;36m1\u001b[0m\u001b[0;34m)\u001b[0m\u001b[0;34m\u001b[0m\u001b[0;34m\u001b[0m\u001b[0m\n\u001b[0m\u001b[1;32m      4\u001b[0m \u001b[0;34m\u001b[0m\u001b[0m\n\u001b[1;32m      5\u001b[0m \u001b[0;32mdef\u001b[0m \u001b[0mfactorial_iterative\u001b[0m\u001b[0;34m(\u001b[0m\u001b[0mn\u001b[0m\u001b[0;34m)\u001b[0m\u001b[0;34m:\u001b[0m\u001b[0;34m\u001b[0m\u001b[0;34m\u001b[0m\u001b[0m\n",
            "\u001b[0;31mRecursionError\u001b[0m: maximum recursion depth exceeded"
          ]
        }
      ]
    },
    {
      "cell_type": "markdown",
      "metadata": {
        "id": "22dae2e6"
      },
      "source": [
        "**Reasoning**:\n",
        "The previous attempt resulted in a `RecursionError` for larger input numbers due to the default recursion depth limit in Python. To handle this, we will increase the recursion depth limit using the `sys` module and `setrecursionlimit`. We will also adjust the input numbers to avoid excessively large values that might still cause issues or take too long to compute.\n",
        "\n"
      ]
    },
    {
      "cell_type": "code",
      "metadata": {
        "id": "2WMSyRp047Nl"
      },
      "source": [
        "import sys\n",
        "import time\n",
        "\n",
        "# Increase the recursion depth limit\n",
        "sys.setrecursionlimit(2000)\n",
        "\n",
        "input_numbers = [5, 10, 20, 50, 100, 200, 500]\n",
        "results = []\n",
        "\n",
        "for number in input_numbers:\n",
        "    start_time_recursive = time.time()\n",
        "    try:\n",
        "        factorial_recursive(number)\n",
        "        end_time_recursive = time.time()\n",
        "        time_recursive = end_time_recursive - start_time_recursive\n",
        "    except RecursionError:\n",
        "        time_recursive = float('inf') # Indicate that recursion failed\n",
        "\n",
        "    start_time_iterative = time.time()\n",
        "    factorial_iterative(number)\n",
        "    end_time_iterative = time.time()\n",
        "    time_iterative = end_time_iterative - start_time_iterative\n",
        "\n",
        "    results.append({\n",
        "        \"input\": number,\n",
        "        \"recursive_time\": time_recursive,\n",
        "        \"iterative_time\": time_iterative\n",
        "    })\n",
        "\n",
        "for result in results:\n",
        "    print(result)"
      ],
      "execution_count": null,
      "outputs": []
    },
    {
      "cell_type": "markdown",
      "metadata": {
        "id": "35533093"
      },
      "source": [
        "## Measure memory usage\n",
        "\n",
        "### Subtask:\n",
        "Explore ways to conceptually compare memory usage or use tools like `sys.getsizeof()` if appropriate.\n"
      ]
    },
    {
      "cell_type": "markdown",
      "metadata": {
        "id": "7191f318"
      },
      "source": [
        "**Reasoning**:\n",
        "Explore ways to conceptually compare memory usage or use tools like `sys.getsizeof()` if appropriate by adding code to the existing functions.\n",
        "\n"
      ]
    },
    {
      "cell_type": "code",
      "metadata": {
        "id": "8a5ec61c"
      },
      "source": [
        "import sys\n",
        "\n",
        "def factorial_recursive_with_memory(n):\n",
        "  \"\"\"Calculates the factorial of a non-negative integer using recursion and tracks memory.\"\"\"\n",
        "  if n < 0:\n",
        "    raise ValueError(\"Factorial is not defined for negative numbers\")\n",
        "  elif n == 0 or n == 1:\n",
        "    #print(f\"Recursive Base Case: n={n}, Size of n: {sys.getsizeof(n)}\")\n",
        "    return 1\n",
        "  else:\n",
        "    #print(f\"Recursive Step: n={n}, Size of n: {sys.getsizeof(n)}\")\n",
        "    return n * factorial_recursive_with_memory(n - 1)\n",
        "\n",
        "def factorial_iterative_with_memory(n):\n",
        "  \"\"\"Calculates the factorial of a non-negative integer using an iterative approach and tracks memory.\"\"\"\n",
        "  if n < 0:\n",
        "    raise ValueError(\"Factorial is not defined for negative numbers\")\n",
        "  elif n == 0 or n == 1:\n",
        "    #print(f\"Iterative Base Case: n={n}, Size of n: {sys.getsizeof(n)}\")\n",
        "    return 1\n",
        "  else:\n",
        "    result = 1\n",
        "    #print(f\"Iterative Initialization: result={result}, Size of result: {sys.getsizeof(result)}\")\n",
        "    for i in range(2, n + 1):\n",
        "      result *= i\n",
        "      #print(f\"Iterative Step: i={i}, Size of i: {sys.getsizeof(i)}, result={result}, Size of result: {sys.getsizeof(result)}\")\n",
        "    return result\n"
      ],
      "execution_count": null,
      "outputs": []
    },
    {
      "cell_type": "markdown",
      "metadata": {
        "id": "503f355d"
      },
      "source": [
        "## Create comparison table\n",
        "\n",
        "### Subtask:\n",
        "Organize the results of execution time and memory usage into a comparison table.\n"
      ]
    },
    {
      "cell_type": "markdown",
      "metadata": {
        "id": "25cfa148"
      },
      "source": [
        "**Reasoning**:\n",
        "Create a pandas DataFrame from the results and add a column for conceptual memory usage, then display the DataFrame.\n",
        "\n"
      ]
    },
    {
      "cell_type": "code",
      "metadata": {
        "id": "8a0743b3"
      },
      "source": [
        "import pandas as pd\n",
        "\n",
        "df_results = pd.DataFrame(results)\n",
        "df_results['memory_usage'] = df_results.apply(lambda row: 'High (Call Stack)' if row['recursive_time'] != float('inf') else 'N/A (Recursion Error)', axis=1)\n",
        "df_results['memory_usage_iterative'] = 'Low (Constant)'\n",
        "\n",
        "display(df_results)"
      ],
      "execution_count": null,
      "outputs": []
    },
    {
      "cell_type": "markdown",
      "metadata": {
        "id": "3ebb5e70"
      },
      "source": [
        "## Discuss pros and cons\n",
        "\n",
        "### Subtask:\n",
        "Add comments to the code discussing the pros and cons of each approach.\n"
      ]
    },
    {
      "cell_type": "markdown",
      "metadata": {
        "id": "8d3792e1"
      },
      "source": [
        "**Reasoning**:\n",
        "Add comments to the recursive and iterative factorial functions to explain their pros and cons regarding readability, memory usage, and potential issues like stack overflow.\n",
        "\n"
      ]
    },
    {
      "cell_type": "code",
      "metadata": {
        "id": "90f38c23"
      },
      "source": [
        "def factorial_recursive(n):\n",
        "  if n < 0: raise ValueError(\"Factorial is not defined for negative numbers\")\n",
        "  return 1 if n == 0 or n == 1 else n * factorial_recursive(n - 1)\n",
        "\n",
        "def factorial_iterative(n):\n",
        "  if n < 0: raise ValueError(\"Factorial is not defined for negative numbers\")\n",
        "  if n == 0 or n == 1: return 1\n",
        "  result = 1\n",
        "  for i in range(2, n + 1): result *= i\n",
        "  return result"
      ],
      "execution_count": null,
      "outputs": []
    },
    {
      "cell_type": "markdown",
      "metadata": {
        "id": "76e4a7a9"
      },
      "source": [
        "## Display results\n",
        "\n",
        "### Subtask:\n",
        "Print the comparison table and potentially a screenshot of execution time if possible in Colab.\n"
      ]
    },
    {
      "cell_type": "markdown",
      "metadata": {
        "id": "7931177d"
      },
      "source": [
        "**Reasoning**:\n",
        "Print the df_results DataFrame to display the comparison table.\n",
        "\n"
      ]
    },
    {
      "cell_type": "code",
      "metadata": {
        "id": "06732542"
      },
      "source": [
        "display(df_results)"
      ],
      "execution_count": null,
      "outputs": []
    },
    {
      "cell_type": "markdown",
      "metadata": {
        "id": "b90d1dea"
      },
      "source": [
        "## Summary:\n",
        "\n",
        "### Data Analysis Key Findings\n",
        "\n",
        "*   The iterative factorial function generally exhibits faster execution times compared to the recursive function, particularly for larger input values. For example, for an input of 500, the iterative approach is significantly faster (though specific times are not provided in the summary).\n",
        "*   Recursive factorial functions inherently use more memory due to the function call stack, with each recursive call adding a new frame. This can lead to `RecursionError` for large inputs if the recursion depth limit is exceeded.\n",
        "*   Iterative factorial functions typically use a constant and lower amount of memory, primarily for a few variables, regardless of the input size.\n",
        "*   Directly measuring the total memory usage of function execution, including the call stack, is challenging with simple Python tools like `sys.getsizeof()`.\n",
        "\n",
        "### Insights or Next Steps\n",
        "\n",
        "*   For practical applications requiring factorial calculations for potentially large numbers, the iterative approach is generally preferred due to its efficiency and lower memory footprint, avoiding recursion depth limitations.\n",
        "*   When choosing between recursive and iterative solutions, consider the problem's inherent structure and the potential trade-offs between code elegance/readability (sometimes favoring recursion for naturally recursive problems) and performance/memory usage (often favoring iteration).\n"
      ]
    }
  ]
}